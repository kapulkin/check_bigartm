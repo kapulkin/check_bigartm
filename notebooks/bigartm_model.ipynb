{
 "cells": [
  {
   "cell_type": "code",
   "execution_count": 57,
   "metadata": {
    "collapsed": true
   },
   "outputs": [],
   "source": [
    "import artm\n",
    "import nltk\n",
    "from nltk.corpus import stopwords\n",
    "from sklearn.feature_extraction.text import CountVectorizer\n",
    "import numpy as np"
   ]
  },
  {
   "cell_type": "code",
   "execution_count": 48,
   "metadata": {
    "collapsed": true
   },
   "outputs": [],
   "source": [
    "f = open(\"./vw.wiki-enru.txt\", \"r\")"
   ]
  },
  {
   "cell_type": "code",
   "execution_count": 49,
   "metadata": {
    "collapsed": false
   },
   "outputs": [],
   "source": [
    "lines = f.readlines()"
   ]
  },
  {
   "cell_type": "code",
   "execution_count": 55,
   "metadata": {
    "collapsed": false
   },
   "outputs": [
    {
     "name": "stdout",
     "output_type": "stream",
     "text": [
      "Нэрима_(станция)|Nerima_Station |@russian островной мимо линия:4 использоваться боковой номер tokyo железнодорожный открывать планировка тосима станция:7 путь:2 близлежащий специальный railway:2 обозначать metropolitan токио bureau оэдо:4 transportation платформа:3 тип:2 открываться метрополитен toei юракут турникет район |@english serving:2 numbering consists japan ground outer daily:2 ikebukuro:2 platform board increased stop ticket:2 layout level busiest either inter escalators elevators platforms:4 connect pass operated shown opened:2 per waiting previous subway:2 tracks:3 entrances toshima stations figures passing introduced via private toei:8 operator statistics additional contains station:17 rebuilt passengers becoming commenced:2 train terminus room tokyo below island:2 toyoko tokyu passenger:2 information:2 elevated:2 adjacent underground:2 gate track trains:2 running:2 services railway:5 network fiscal:4 lines:2 average:3 km seibu:11 si allow\r\n",
      "\n"
     ]
    }
   ],
   "source": [
    "print(lines[8])"
   ]
  },
  {
   "cell_type": "code",
   "execution_count": null,
   "metadata": {
    "collapsed": true
   },
   "outputs": [],
   "source": [
    "batch_vectorizer = artm.BatchVectorizer(data_path='./vw.wiki-enru.txt',\n",
    "                                        data_format='vowpal_wabbit',\n",
    "                                        target_folder='my_collection_batches')"
   ]
  },
  {
   "cell_type": "code",
   "execution_count": null,
   "metadata": {
    "collapsed": true
   },
   "outputs": [],
   "source": [
    "dictionary = artm.Dictionary()\n",
    "dictionary.gather(data_path='my_collection_batches')"
   ]
  },
  {
   "cell_type": "code",
   "execution_count": null,
   "metadata": {
    "collapsed": false
   },
   "outputs": [],
   "source": [
    "dictionary.save_text(dictionary_path='my_collection_batches/my_dictionary.txt')\n",
    "#dictionary.save(dictionary_path='/my_collection_batches/my_dictionary')"
   ]
  },
  {
   "cell_type": "code",
   "execution_count": null,
   "metadata": {
    "collapsed": true
   },
   "outputs": [],
   "source": [
    "#dictionary.load_text(dictionary_path='my_collection_batches/my_dictionary.txt')"
   ]
  },
  {
   "cell_type": "code",
   "execution_count": null,
   "metadata": {
    "collapsed": true
   },
   "outputs": [],
   "source": [
    "model = artm.ARTM(num_topics=20, dictionary=dictionary)"
   ]
  },
  {
   "cell_type": "code",
   "execution_count": null,
   "metadata": {
    "collapsed": false
   },
   "outputs": [],
   "source": [
    "model.fit_offline(batch_vectorizer=batch_vectorizer, num_collection_passes=10)"
   ]
  },
  {
   "cell_type": "code",
   "execution_count": 13,
   "metadata": {
    "collapsed": true
   },
   "outputs": [],
   "source": [
    "def tokenize_text(text):\n",
    "    tokens = []\n",
    "    for sent in nltk.sent_tokenize(text):\n",
    "        for word in nltk.word_tokenize(sent):\n",
    "            #if word in stopwords.words('russian'):\n",
    "            #    continue\n",
    "            if len(word) >= 2:\n",
    "                tokens.append(word.lower())\n",
    "    return tokens"
   ]
  },
  {
   "cell_type": "code",
   "execution_count": 14,
   "metadata": {
    "collapsed": true
   },
   "outputs": [],
   "source": [
    "fp = open(\"./paper.txt\", \"r\")\n",
    "paper = fp.readlines()"
   ]
  },
  {
   "cell_type": "code",
   "execution_count": 15,
   "metadata": {
    "collapsed": false
   },
   "outputs": [],
   "source": [
    "text = \"\"\n",
    "for x in paper:\n",
    "    text = text + x"
   ]
  },
  {
   "cell_type": "code",
   "execution_count": 16,
   "metadata": {
    "collapsed": false
   },
   "outputs": [
    {
     "name": "stdout",
     "output_type": "stream",
     "text": [
      "Квас (укр. , белор. , макед. , сербохорв. квас, сербохорв. диал. аловина, словацк. kysel', kyselica, parovec, польск. kwas, kisiel, żur), лит. gira), латыш. kvass) — традиционный славянский кислый напиток, который готовят на основе брожения из муки и солода (ржаного, ячменного) или из сухого ржаного хлеба, иногда с добавлением пахучих трав, мёда, вощины; также готовится из свёклы, фруктов, ягод. Раньше он нередко служил основой холодных похлёбок[1].\n",
      "В период между IX и XIV веками славяне изготавливали алкогольный квас творёный (свареный), и слово «квасник» на языке того времени употребляли в значении «пьяница»[2]. Лужиц. kwas «праздник, свадебный пир»[3] и ст.-словацк. kvas «пир, угощение, гуляние»[1] свидетельствуют о том, что раньше квас был основным хмельным напитком на праздниках и свадьбах[1].\n",
      "\n"
     ]
    }
   ],
   "source": [
    "print(text)"
   ]
  },
  {
   "cell_type": "code",
   "execution_count": 17,
   "metadata": {
    "collapsed": false
   },
   "outputs": [],
   "source": [
    "tok_text = tokenize_text(text.decode('utf-8'))"
   ]
  },
  {
   "cell_type": "code",
   "execution_count": 19,
   "metadata": {
    "collapsed": false
   },
   "outputs": [
    {
     "name": "stdout",
     "output_type": "stream",
     "text": [
      "квас\n",
      "укр\n",
      "белор\n",
      "макед\n",
      "сербохорв\n",
      "квас\n",
      "сербохорв\n",
      "диал\n",
      "аловина\n",
      "словацк\n",
      "kysel\n",
      "kyselica\n",
      "parovec\n",
      "польск\n",
      "kwas\n",
      "kisiel\n",
      "żur\n",
      "лит\n",
      "gira\n",
      "латыш\n",
      "kvass\n",
      "традиционный\n",
      "славянский\n",
      "кислый\n",
      "напиток\n",
      "который\n",
      "готовят\n",
      "на\n",
      "основе\n",
      "брожения\n",
      "из\n",
      "муки\n",
      "солода\n",
      "ржаного\n",
      "ячменного\n",
      "или\n",
      "из\n",
      "сухого\n",
      "ржаного\n",
      "хлеба\n",
      "иногда\n",
      "добавлением\n",
      "пахучих\n",
      "трав\n",
      "мёда\n",
      "вощины\n",
      "также\n",
      "готовится\n",
      "из\n",
      "свёклы\n",
      "фруктов\n",
      "ягод\n",
      "раньше\n",
      "он\n",
      "нередко\n",
      "служил\n",
      "основой\n",
      "холодных\n",
      "похлёбок\n",
      "период\n",
      "между\n",
      "ix\n",
      "xiv\n",
      "веками\n",
      "славяне\n",
      "изготавливали\n",
      "алкогольный\n",
      "квас\n",
      "творёный\n",
      "свареный\n",
      "слово\n",
      "«квасник»\n",
      "на\n",
      "языке\n",
      "того\n",
      "времени\n",
      "употребляли\n",
      "значении\n",
      "«пьяница»\n",
      "лужиц\n",
      "kwas\n",
      "«праздник\n",
      "свадебный\n",
      "пир»\n",
      "ст.-словацк\n",
      "kvas\n",
      "«пир\n",
      "угощение\n",
      "гуляние»\n",
      "свидетельствуют\n",
      "том\n",
      "что\n",
      "раньше\n",
      "квас\n",
      "был\n",
      "основным\n",
      "хмельным\n",
      "напитком\n",
      "на\n",
      "праздниках\n",
      "свадьбах\n"
     ]
    }
   ],
   "source": [
    "for word in tok_text:\n",
    "    print(word)"
   ]
  },
  {
   "cell_type": "code",
   "execution_count": 33,
   "metadata": {
    "collapsed": false
   },
   "outputs": [],
   "source": [
    "count_vectorizer = CountVectorizer(\n",
    "    analyzer=\"word\", tokenizer=nltk.word_tokenize,\n",
    "    preprocessor=None, max_features=3000) \n",
    "train_data_features = count_vectorizer.fit_transform(paper)"
   ]
  },
  {
   "cell_type": "code",
   "execution_count": 61,
   "metadata": {
    "collapsed": false
   },
   "outputs": [],
   "source": [
    "tt = train_data_features.toarray()\n",
    "vocab = count_vectorizer.get_feature_names()"
   ]
  },
  {
   "cell_type": "code",
   "execution_count": 66,
   "metadata": {
    "collapsed": false
   },
   "outputs": [],
   "source": [
    "# Sum up the counts of each vocabulary word\n",
    "dist = np.sum(tt, axis=0)\n",
    "\n",
    "# For each, print the vocabulary word and the number of times it \n",
    "# appears in the training set\n",
    "out_txt = \"\"\n",
    "for tag, count in zip(vocab, dist):\n",
    "    if count == 1:\n",
    "        out_txt = out_txt + tag + \" \"\n",
    "    else:\n",
    "        out_txt = out_txt + tag + \":\" + str(count) + \" \""
   ]
  },
  {
   "cell_type": "code",
   "execution_count": 67,
   "metadata": {
    "collapsed": false
   },
   "outputs": [
    {
     "name": "stdout",
     "output_type": "stream",
     "text": [
      "' (:3 ):5 ,:24 .:16 1:3 2 3 ; [:5 ]:5 gira ix kisiel kvas kvass kwas:2 kysel kyselica parovec xiv «квасник» «пир «праздник «пьяница» żur алкогольный аловина белор брожения был в:2 веками вощины времени готовится готовят гуляние» диал добавлением значении и:5 из:3 изготавливали или иногда квас:4 кислый который латыш лит лужиц макед между муки мёда на:3 напитком напиток нередко о он основе основным основой пахучих период пир» польск похлёбок праздниках раньше:2 ржаного:2 с свадебный свадьбах свареный свидетельствуют свёклы сербохорв:2 славяне славянский словацк слово служил солода ст.-словацк сухого также творёный того том трав традиционный угощение укр употребляли фруктов хлеба хмельным холодных что ягод языке ячменного — \n"
     ]
    }
   ],
   "source": [
    "print(out_txt)"
   ]
  },
  {
   "cell_type": "code",
   "execution_count": 36,
   "metadata": {
    "collapsed": false
   },
   "outputs": [
    {
     "name": "stdout",
     "output_type": "stream",
     "text": [
      "'\n",
      "(\n",
      ")\n",
      ",\n",
      ".\n",
      "1\n",
      "2\n",
      "3\n",
      ";\n",
      "[\n",
      "]\n",
      "gira\n",
      "ix\n",
      "kisiel\n",
      "kvas\n",
      "kvass\n",
      "kwas\n",
      "kysel\n",
      "kyselica\n",
      "parovec\n",
      "xiv\n",
      "«квасник»\n",
      "«пир\n",
      "«праздник\n",
      "«пьяница»\n",
      "żur\n",
      "алкогольный\n",
      "аловина\n",
      "белор\n",
      "брожения\n",
      "был\n",
      "в\n",
      "веками\n",
      "вощины\n",
      "времени\n",
      "готовится\n",
      "готовят\n",
      "гуляние»\n",
      "диал\n",
      "добавлением\n",
      "значении\n",
      "и\n",
      "из\n",
      "изготавливали\n",
      "или\n",
      "иногда\n",
      "квас\n",
      "кислый\n",
      "который\n",
      "латыш\n",
      "лит\n",
      "лужиц\n",
      "макед\n",
      "между\n",
      "муки\n",
      "мёда\n",
      "на\n",
      "напитком\n",
      "напиток\n",
      "нередко\n",
      "о\n",
      "он\n",
      "основе\n",
      "основным\n",
      "основой\n",
      "пахучих\n",
      "период\n",
      "пир»\n",
      "польск\n",
      "похлёбок\n",
      "праздниках\n",
      "раньше\n",
      "ржаного\n",
      "с\n",
      "свадебный\n",
      "свадьбах\n",
      "свареный\n",
      "свидетельствуют\n",
      "свёклы\n",
      "сербохорв\n",
      "славяне\n",
      "славянский\n",
      "словацк\n",
      "слово\n",
      "служил\n",
      "солода\n",
      "ст.-словацк\n",
      "сухого\n",
      "также\n",
      "творёный\n",
      "того\n",
      "том\n",
      "трав\n",
      "традиционный\n",
      "угощение\n",
      "укр\n",
      "употребляли\n",
      "фруктов\n",
      "хлеба\n",
      "хмельным\n",
      "холодных\n",
      "что\n",
      "ягод\n",
      "языке\n",
      "ячменного\n",
      "—\n"
     ]
    }
   ],
   "source": [
    "for x in count_vectorizer.get_feature_names():\n",
    "    print(x)"
   ]
  },
  {
   "cell_type": "code",
   "execution_count": null,
   "metadata": {
    "collapsed": true
   },
   "outputs": [],
   "source": []
  }
 ],
 "metadata": {
  "kernelspec": {
   "display_name": "Python 2",
   "language": "python",
   "name": "python2"
  },
  "language_info": {
   "codemirror_mode": {
    "name": "ipython",
    "version": 2
   },
   "file_extension": ".py",
   "mimetype": "text/x-python",
   "name": "python",
   "nbconvert_exporter": "python",
   "pygments_lexer": "ipython2",
   "version": "2.7.12"
  }
 },
 "nbformat": 4,
 "nbformat_minor": 2
}
